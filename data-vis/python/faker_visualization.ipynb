{
 "cells": [
  {
   "cell_type": "markdown",
   "metadata": {},
   "source": [
    "# Faker Visualization"
   ]
  },
  {
   "cell_type": "markdown",
   "metadata": {},
   "source": [
    "This code imports essential libraries for data manipulation, visualization, and displaying results (pandas, matplotlib, seaborn, IPython.display), along with cassandrautils for interacting with Cassandra databases."
   ]
  },
  {
   "cell_type": "code",
   "execution_count": null,
   "metadata": {},
   "outputs": [],
   "source": [
    "import matplotlib.pyplot as plt\n",
    "import seaborn as sns\n",
    "import pandas as pd\n",
    "import numpy as np\n",
    "from IPython.display import display\n",
    "from cassandrautils import *\n"
   ]
  },
  {
   "cell_type": "markdown",
   "metadata": {},
   "source": [
    "This function retrieves a DataFrame (in this case, faker_df), and uses IPython.display to neatly display the first specified number of rows (defaulting to 10, but set to 20 in this example) in a tabular format for easier inspection."
   ]
  },
  {
   "cell_type": "code",
   "execution_count": null,
   "metadata": {},
   "outputs": [],
   "source": [
    "def display_table(dataframe, rows=10):\n",
    "    from IPython.display import display\n",
    "    display(dataframe.head(rows))\n",
    "\n",
    "\n",
    "faker_df = getFakerDF()\n",
    "display_table(faker_df, rows=20)\n"
   ]
  }
 ],
 "metadata": {
  "kernelspec": {
   "display_name": "Python 3 (ipykernel)",
   "language": "python",
   "name": "python3"
  }
 },
 "nbformat": 4,
 "nbformat_minor": 2
}
